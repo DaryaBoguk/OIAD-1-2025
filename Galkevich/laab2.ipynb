{
 "cells": [
  {
   "cell_type": "markdown",
   "id": "dc46c192",
   "metadata": {},
   "source": [
    "\n",
    "# ОИАД — Лабораторная работа №2\n",
    "\n",
    "N == 5"
   ]
  },
  {
   "cell_type": "code",
   "id": "7bce3463",
   "metadata": {
    "ExecuteTime": {
     "end_time": "2025-10-13T16:47:05.503429Z",
     "start_time": "2025-10-13T16:47:05.495581Z"
    }
   },
   "source": [
    "\n",
    "import os\n",
    "import math\n",
    "import numpy as np\n",
    "import pandas as pd\n",
    "import matplotlib.pyplot as plt\n",
    "from scipy import stats\n",
    "\n",
    "def hline():\n",
    "    print('-' * 80)\n",
    "\n",
    "def describe_series(s: pd.Series, name: str):\n",
    "    print(f\"Описательные статистики: {name}\")\n",
    "    print(s.describe())\n",
    "    print(\"Количество пропусков:\", s.isna().sum())\n",
    "    hline()\n",
    "\n",
    "def fechner_correlation(x: pd.Series, y: pd.Series, drop_zero: bool = True):\n",
    "    xm = x.median()\n",
    "    ym = y.median()\n",
    "    dx = np.sign(x - xm)\n",
    "    dy = np.sign(y - ym)\n",
    "    m = pd.DataFrame({'dx': dx, 'dy': dy}).dropna()\n",
    "    if drop_zero:\n",
    "        m = m[(m['dx'] != 0) & (m['dy'] != 0)]\n",
    "    n = len(m)\n",
    "    same_sign = (m['dx'] == m['dy']).sum()\n",
    "    r_f = (same_sign - (n - same_sign)) / n\n",
    "    return r_f, n\n",
    "\n",
    "def pearson_with_ci(x: np.ndarray, y: np.ndarray, alpha: float = 0.05):\n",
    "    x = np.asarray(x)\n",
    "    y = np.asarray(y)\n",
    "    mask = ~(np.isnan(x) | np.isnan(y))\n",
    "    x = x[mask]\n",
    "    y = y[mask]\n",
    "    n = x.size\n",
    "    if n < 3:\n",
    "        return np.nan, (np.nan, np.nan), n, np.nan\n",
    "    r = np.corrcoef(x, y)[0, 1]\n",
    "    r_scipy, pval = stats.pearsonr(x, y)\n",
    "    r = r_scipy\n",
    "    r_clipped = np.clip(r, -0.999999, 0.999999)\n",
    "    z = np.arctanh(r_clipped)\n",
    "    se = 1 / math.sqrt(n - 3)\n",
    "    z_crit = stats.norm.ppf(1 - alpha/2)\n",
    "    z_low, z_high = z - z_crit * se, z + z_crit * se\n",
    "    ci_low, ci_high = math.tanh(z_low), math.tanh(z_high)\n",
    "    return r, (ci_low, ci_high), n, pval\n",
    "\n",
    "def spearman_corr(x: np.ndarray, y: np.ndarray):\n",
    "    mask = ~(np.isnan(x) | np.isnan(y))\n",
    "    x = x[mask]\n",
    "    y = y[mask]\n",
    "    if x.size < 2:\n",
    "        return np.nan, np.nan\n",
    "    r, p = stats.spearmanr(x, y)\n",
    "    return r, p\n",
    "\n",
    "def kendall_corr(x: np.ndarray, y: np.ndarray):\n",
    "    mask = ~(np.isnan(x) | np.isnan(y))\n",
    "    x = x[mask]\n",
    "    y = y[mask]\n",
    "    if x.size < 2:\n",
    "        return np.nan, np.nan\n",
    "    tau, p = stats.kendalltau(x, y)\n",
    "    return tau, p\n",
    "\n",
    "def regression_metrics(y_true: np.ndarray, y_pred: np.ndarray, p_regressors: int, alpha: float = 0.05):\n",
    "    y_true = np.asarray(y_true)\n",
    "    y_pred = np.asarray(y_pred)\n",
    "    n = y_true.size\n",
    "    sse = float(np.sum((y_true - y_pred)**2))\n",
    "    y_mean = float(np.mean(y_true))\n",
    "    ssr = float(np.sum((y_pred - y_mean)**2))\n",
    "    sst = float(np.sum((y_true - y_mean)**2))\n",
    "    r2 = 1 - sse / sst if sst > 0 else np.nan\n",
    "    df1 = p_regressors\n",
    "    df2 = max(n - p_regressors - 1, 1)\n",
    "    msr = ssr / df1 if df1 > 0 else np.nan\n",
    "    mse = sse / df2 if df2 > 0 else np.nan\n",
    "    F = msr / mse if (msr is not np.nan and mse not in (0, np.nan)) else np.nan\n",
    "    F_crit = stats.f.ppf(1 - alpha, df1, df2)\n",
    "    p_val = stats.f.sf(F, df1, df2)\n",
    "    return {\n",
    "        'SSE': sse, 'SSR': ssr, 'SST': sst, 'R2': r2,\n",
    "        'df1': df1, 'df2': df2, 'F': F, 'F_crit@alpha': F_crit, 'p_value': p_val\n",
    "    }"
   ],
   "outputs": [],
   "execution_count": 68
  },
  {
   "cell_type": "code",
   "id": "04843675",
   "metadata": {
    "ExecuteTime": {
     "end_time": "2025-10-13T16:47:05.516176Z",
     "start_time": "2025-10-13T16:47:05.508335Z"
    }
   },
   "source": [
    "\n",
    "N = 5\n",
    "idx1 = N % 5\n",
    "idx2 = (N**2) % 5 + 5\n",
    "print(f\"N={N} -> idx1={idx1}, idx2={idx2}\")\n",
    "\n",
    "CANDIDATE_PATHS = [\n",
    "    \"students_simple.csv\"\n",
    "]\n",
    "\n",
    "df = None\n",
    "df = pd.read_csv(CANDIDATE_PATHS[0])\n",
    "data_path = p\n",
    "\n",
    "print(\"Размерность:\", df.shape)\n",
    "print(\"Первые 5 строк:\")\n",
    "display(df.head())\n",
    "hline()\n",
    "\n",
    "cols = list(df.columns)\n",
    "x_col = cols[idx1]\n",
    "y_col = cols[idx2]\n",
    "\n",
    "print(f\"Выбранные признаки: X = '{x_col}' (столбец {idx1}), Y = '{y_col}' (столбец {idx2})\")\n"
   ],
   "outputs": [
    {
     "name": "stdout",
     "output_type": "stream",
     "text": [
      "N=5 -> idx1=0, idx2=5\n",
      "Размерность: (20, 10)\n",
      "Первые 5 строк:\n"
     ]
    },
    {
     "data": {
      "text/plain": [
       "   height  mass  income   iq  pages  age    bmi  work_exp  friends  test_time\n",
       "0     159    45     430   95     24   20  3.533        26        5        8.5\n",
       "1     160    61     640  115     32   25  2.623        63        7        6.2\n",
       "2     161    56     610  111     24   28  2.875        94       10        6.8\n",
       "3     162    48     330   97     24   19  3.375        16        4       12.0\n",
       "4     162    54     420  105     60   23  3.000        49        2        7.5"
      ],
      "text/html": [
       "<div>\n",
       "<style scoped>\n",
       "    .dataframe tbody tr th:only-of-type {\n",
       "        vertical-align: middle;\n",
       "    }\n",
       "\n",
       "    .dataframe tbody tr th {\n",
       "        vertical-align: top;\n",
       "    }\n",
       "\n",
       "    .dataframe thead th {\n",
       "        text-align: right;\n",
       "    }\n",
       "</style>\n",
       "<table border=\"1\" class=\"dataframe\">\n",
       "  <thead>\n",
       "    <tr style=\"text-align: right;\">\n",
       "      <th></th>\n",
       "      <th>height</th>\n",
       "      <th>mass</th>\n",
       "      <th>income</th>\n",
       "      <th>iq</th>\n",
       "      <th>pages</th>\n",
       "      <th>age</th>\n",
       "      <th>bmi</th>\n",
       "      <th>work_exp</th>\n",
       "      <th>friends</th>\n",
       "      <th>test_time</th>\n",
       "    </tr>\n",
       "  </thead>\n",
       "  <tbody>\n",
       "    <tr>\n",
       "      <th>0</th>\n",
       "      <td>159</td>\n",
       "      <td>45</td>\n",
       "      <td>430</td>\n",
       "      <td>95</td>\n",
       "      <td>24</td>\n",
       "      <td>20</td>\n",
       "      <td>3.533</td>\n",
       "      <td>26</td>\n",
       "      <td>5</td>\n",
       "      <td>8.5</td>\n",
       "    </tr>\n",
       "    <tr>\n",
       "      <th>1</th>\n",
       "      <td>160</td>\n",
       "      <td>61</td>\n",
       "      <td>640</td>\n",
       "      <td>115</td>\n",
       "      <td>32</td>\n",
       "      <td>25</td>\n",
       "      <td>2.623</td>\n",
       "      <td>63</td>\n",
       "      <td>7</td>\n",
       "      <td>6.2</td>\n",
       "    </tr>\n",
       "    <tr>\n",
       "      <th>2</th>\n",
       "      <td>161</td>\n",
       "      <td>56</td>\n",
       "      <td>610</td>\n",
       "      <td>111</td>\n",
       "      <td>24</td>\n",
       "      <td>28</td>\n",
       "      <td>2.875</td>\n",
       "      <td>94</td>\n",
       "      <td>10</td>\n",
       "      <td>6.8</td>\n",
       "    </tr>\n",
       "    <tr>\n",
       "      <th>3</th>\n",
       "      <td>162</td>\n",
       "      <td>48</td>\n",
       "      <td>330</td>\n",
       "      <td>97</td>\n",
       "      <td>24</td>\n",
       "      <td>19</td>\n",
       "      <td>3.375</td>\n",
       "      <td>16</td>\n",
       "      <td>4</td>\n",
       "      <td>12.0</td>\n",
       "    </tr>\n",
       "    <tr>\n",
       "      <th>4</th>\n",
       "      <td>162</td>\n",
       "      <td>54</td>\n",
       "      <td>420</td>\n",
       "      <td>105</td>\n",
       "      <td>60</td>\n",
       "      <td>23</td>\n",
       "      <td>3.000</td>\n",
       "      <td>49</td>\n",
       "      <td>2</td>\n",
       "      <td>7.5</td>\n",
       "    </tr>\n",
       "  </tbody>\n",
       "</table>\n",
       "</div>"
      ]
     },
     "metadata": {},
     "output_type": "display_data",
     "jetTransient": {
      "display_id": null
     }
    },
    {
     "name": "stdout",
     "output_type": "stream",
     "text": [
      "--------------------------------------------------------------------------------\n",
      "Выбранные признаки: X = 'height' (столбец 0), Y = 'age' (столбец 5)\n"
     ]
    }
   ],
   "execution_count": 69
  },
  {
   "cell_type": "code",
   "id": "d526f7b8",
   "metadata": {
    "ExecuteTime": {
     "end_time": "2025-10-13T16:47:05.532392Z",
     "start_time": "2025-10-13T16:47:05.526948Z"
    }
   },
   "source": [
    "\n",
    "x_raw = pd.to_numeric(df[x_col], errors='coerce')\n",
    "y_raw = pd.to_numeric(df[y_col], errors='coerce')\n",
    "pair = pd.DataFrame({'x': x_raw, 'y': y_raw}).dropna()\n",
    "pair_corr = pair.copy()\n",
    "\n",
    "print(\"Число наблюдений для корреляционного анализа:\", len(pair_corr))\n",
    "describe_series(pair_corr['x'], f\"X = {x_col}\")\n",
    "describe_series(pair_corr['y'], f\"Y = {y_col}\")\n"
   ],
   "outputs": [
    {
     "name": "stdout",
     "output_type": "stream",
     "text": [
      "Число наблюдений для корреляционного анализа: 20\n",
      "Описательные статистики: X = height\n",
      "count     20.000000\n",
      "mean     170.850000\n",
      "std        8.585637\n",
      "min      159.000000\n",
      "25%      163.500000\n",
      "50%      170.500000\n",
      "75%      176.000000\n",
      "max      192.000000\n",
      "Name: x, dtype: float64\n",
      "Количество пропусков: 0\n",
      "--------------------------------------------------------------------------------\n",
      "Описательные статистики: Y = age\n",
      "count    20.00000\n",
      "mean     23.40000\n",
      "std       3.63318\n",
      "min      19.00000\n",
      "25%      20.00000\n",
      "50%      23.00000\n",
      "75%      26.25000\n",
      "max      30.00000\n",
      "Name: y, dtype: float64\n",
      "Количество пропусков: 0\n",
      "--------------------------------------------------------------------------------\n"
     ]
    }
   ],
   "execution_count": 70
  },
  {
   "cell_type": "code",
   "id": "3daab704",
   "metadata": {
    "ExecuteTime": {
     "end_time": "2025-10-13T16:47:05.544349Z",
     "start_time": "2025-10-13T16:47:05.537558Z"
    }
   },
   "source": [
    "r_fechner, n_fechner = fechner_correlation(pair_corr['x'], pair_corr['y'], drop_zero=True)\n",
    "\n",
    "r_p, (ci_lo, ci_hi), n_p, pval_p = pearson_with_ci(pair_corr['x'].to_numpy(), pair_corr['y'].to_numpy(), alpha=0.05)\n",
    "\n",
    "r_s, pval_s = spearman_corr(pair_corr['x'].to_numpy(), pair_corr['y'].to_numpy())\n",
    "\n",
    "r_k, pval_k = kendall_corr(pair_corr['x'].to_numpy(), pair_corr['y'].to_numpy())\n",
    "\n",
    "corr_table = pd.DataFrame({\n",
    "    'Метод': ['Фехнера', 'Пирсона (r)', 'Спирмена (ρ)', 'Кендалла (τ)'],\n",
    "    'Значение': [r_fechner, r_p, r_s, r_k],\n",
    "    'n (исп.)': [n_fechner, n_p, len(pair_corr), len(pair_corr)],\n",
    "    'p-value': [np.nan, pval_p, pval_s, pval_k],\n",
    "    '95% ДИ (только Пирсон)': [\n",
    "        '', f'[{ci_lo:.4f}; {ci_hi:.4f}]' if not np.isnan(ci_lo) else 'н/д', '', ''\n",
    "    ]\n",
    "})\n",
    "corr_table\n"
   ],
   "outputs": [
    {
     "data": {
      "text/plain": [
       "          Метод  Значение  n (исп.)   p-value 95% ДИ (только Пирсон)\n",
       "0       Фехнера  0.111111        18       NaN                       \n",
       "1   Пирсона (r)  0.194375        20  0.411547      [-0.2715; 0.5865]\n",
       "2  Спирмена (ρ)  0.175023        20  0.460482                       \n",
       "3  Кендалла (τ)  0.122290        20  0.469782                       "
      ],
      "text/html": [
       "<div>\n",
       "<style scoped>\n",
       "    .dataframe tbody tr th:only-of-type {\n",
       "        vertical-align: middle;\n",
       "    }\n",
       "\n",
       "    .dataframe tbody tr th {\n",
       "        vertical-align: top;\n",
       "    }\n",
       "\n",
       "    .dataframe thead th {\n",
       "        text-align: right;\n",
       "    }\n",
       "</style>\n",
       "<table border=\"1\" class=\"dataframe\">\n",
       "  <thead>\n",
       "    <tr style=\"text-align: right;\">\n",
       "      <th></th>\n",
       "      <th>Метод</th>\n",
       "      <th>Значение</th>\n",
       "      <th>n (исп.)</th>\n",
       "      <th>p-value</th>\n",
       "      <th>95% ДИ (только Пирсон)</th>\n",
       "    </tr>\n",
       "  </thead>\n",
       "  <tbody>\n",
       "    <tr>\n",
       "      <th>0</th>\n",
       "      <td>Фехнера</td>\n",
       "      <td>0.111111</td>\n",
       "      <td>18</td>\n",
       "      <td>NaN</td>\n",
       "      <td></td>\n",
       "    </tr>\n",
       "    <tr>\n",
       "      <th>1</th>\n",
       "      <td>Пирсона (r)</td>\n",
       "      <td>0.194375</td>\n",
       "      <td>20</td>\n",
       "      <td>0.411547</td>\n",
       "      <td>[-0.2715; 0.5865]</td>\n",
       "    </tr>\n",
       "    <tr>\n",
       "      <th>2</th>\n",
       "      <td>Спирмена (ρ)</td>\n",
       "      <td>0.175023</td>\n",
       "      <td>20</td>\n",
       "      <td>0.460482</td>\n",
       "      <td></td>\n",
       "    </tr>\n",
       "    <tr>\n",
       "      <th>3</th>\n",
       "      <td>Кендалла (τ)</td>\n",
       "      <td>0.122290</td>\n",
       "      <td>20</td>\n",
       "      <td>0.469782</td>\n",
       "      <td></td>\n",
       "    </tr>\n",
       "  </tbody>\n",
       "</table>\n",
       "</div>"
      ]
     },
     "execution_count": 71,
     "metadata": {},
     "output_type": "execute_result"
    }
   ],
   "execution_count": 71
  },
  {
   "cell_type": "markdown",
   "id": "45d98079",
   "metadata": {},
   "source": [
    "\n",
    "## 2. Визуализация\n",
    "Гистограммы для каждого признака и график рассеяния.\n"
   ]
  },
  {
   "cell_type": "code",
   "id": "d1262314",
   "metadata": {
    "ExecuteTime": {
     "end_time": "2025-10-13T16:47:05.591795Z",
     "start_time": "2025-10-13T16:47:05.548608Z"
    }
   },
   "source": [
    "\n",
    "plt.figure()\n",
    "plt.hist(pair_corr['x'].to_numpy(), bins='auto')\n",
    "plt.title(f\"Гистограмма X = {x_col}\")\n",
    "plt.xlabel(x_col)\n",
    "plt.ylabel(\"Частота\")\n",
    "plt.grid(True)\n",
    "plt.show()\n"
   ],
   "outputs": [
    {
     "data": {
      "text/plain": [
       "<Figure size 640x480 with 1 Axes>"
      ],
      "image/png": "[encoded data removed]"
     },
     "metadata": {},
     "output_type": "display_data",
     "jetTransient": {
      "display_id": null
     }
    }
   ],
   "execution_count": 72
  },
  {
   "cell_type": "code",
   "id": "72f9da8e",
   "metadata": {
    "ExecuteTime": {
     "end_time": "2025-10-13T16:47:05.636323Z",
     "start_time": "2025-10-13T16:47:05.595728Z"
    }
   },
   "source": [
    "\n",
    "plt.figure()\n",
    "plt.hist(pair_corr['y'].to_numpy(), bins='auto')\n",
    "plt.title(f\"Гистограмма Y = {y_col}\")\n",
    "plt.xlabel(y_col)\n",
    "plt.ylabel(\"Частота\")\n",
    "plt.grid(True)\n",
    "plt.show()\n"
   ],
   "outputs": [
    {
     "data": {
      "text/plain": [
       "<Figure size 640x480 with 1 Axes>"
      ],
      "image/png": "[encoded data removed]"
     },
     "metadata": {},
     "output_type": "display_data",
     "jetTransient": {
      "display_id": null
     }
    }
   ],
   "execution_count": 73
  },
  {
   "cell_type": "code",
   "id": "6b422d7b",
   "metadata": {
    "ExecuteTime": {
     "end_time": "2025-10-13T16:47:05.683482Z",
     "start_time": "2025-10-13T16:47:05.640439Z"
    }
   },
   "source": [
    "\n",
    "plt.figure()\n",
    "plt.scatter(pair_corr['x'].to_numpy(), pair_corr['y'].to_numpy(), marker='o')\n",
    "plt.title(f\"Scatter plot: {x_col} vs {y_col}\")\n",
    "plt.xlabel(x_col)\n",
    "plt.ylabel(y_col)\n",
    "plt.grid(True)\n",
    "plt.show()\n"
   ],
   "outputs": [
    {
     "data": {
      "text/plain": [
       "<Figure size 640x480 with 1 Axes>"
      ],
      "image/png": "[encoded data removed]"
     },
     "metadata": {},
     "output_type": "display_data",
     "jetTransient": {
      "display_id": null
     }
    }
   ],
   "execution_count": 74
  },
  {
   "cell_type": "markdown",
   "id": "32e5813b",
   "metadata": {},
   "source": [
    "\n",
    "## 3. Уравнения регрессии\n"
   ]
  },
  {
   "cell_type": "code",
   "id": "ac2921a4",
   "metadata": {
    "ExecuteTime": {
     "end_time": "2025-10-13T16:47:05.689594Z",
     "start_time": "2025-10-13T16:47:05.686928Z"
    }
   },
   "source": [
    "\n",
    "pair_model = pair_corr.copy()\n",
    "mask_common = (~pair_model['x'].isna()) & (~pair_model['y'].isna()) & (pair_model['x'] != 0) & (pair_model['y'] > 0)\n",
    "pair_model = pair_model[mask_common].copy()\n",
    "pair_model.reset_index(drop=True, inplace=True)\n",
    "\n",
    "x = pair_model['x'].to_numpy()\n",
    "y = pair_model['y'].to_numpy()\n",
    "\n",
    "x_grid = np.linspace(np.min(x), np.max(x), 200)\n"
   ],
   "outputs": [],
   "execution_count": 75
  },
  {
   "cell_type": "code",
   "id": "378c166e",
   "metadata": {
    "ExecuteTime": {
     "end_time": "2025-10-13T16:47:05.702401Z",
     "start_time": "2025-10-13T16:47:05.696122Z"
    }
   },
   "source": [
    "\n",
    "\n",
    "results = {}\n",
    "\n",
    "coef_lin = np.polyfit(x, y, deg=1)\n",
    "w1_lin, w0_lin = coef_lin[0], coef_lin[1]\n",
    "y_pred_lin = w1_lin * x + w0_lin\n",
    "y_grid_lin = w1_lin * x_grid + w0_lin\n",
    "results['Линейная'] = {\n",
    "    'params': {'w1': w1_lin, 'w0': w0_lin},\n",
    "    'y_pred': y_pred_lin,\n",
    "    'y_grid': y_grid_lin,\n",
    "    'p_regressors': 1\n",
    "}\n",
    "\n",
    "coef_quad = np.polyfit(x, y, deg=2)\n",
    "w2_q, w1_q, w0_q = coef_quad[0], coef_quad[1], coef_quad[2]\n",
    "y_pred_quad = w2_q * x**2 + w1_q * x + w0_q\n",
    "y_grid_quad = w2_q * x_grid**2 + w1_q * x_grid + w0_q\n",
    "results['Квадратичная'] = {\n",
    "    'params': {'w2': w2_q, 'w1': w1_q, 'w0': w0_q},\n",
    "    'y_pred': y_pred_quad,\n",
    "    'y_grid': y_grid_quad,\n",
    "    'p_regressors': 2\n",
    "}\n",
    "\n",
    "z = 1.0 / x\n",
    "coef_hyp = np.polyfit(z, y, deg=1)\n",
    "w1_hyp, w0_hyp = coef_hyp[0], coef_hyp[1]\n",
    "y_pred_hyp = w1_hyp * (1.0 / x) + w0_hyp\n",
    "y_grid_hyp = w1_hyp * (1.0 / x_grid) + w0_hyp\n",
    "results['Гиперболическая'] = {\n",
    "    'params': {'w1': w1_hyp, 'w0': w0_hyp},\n",
    "    'y_pred': y_pred_hyp,\n",
    "    'y_grid': y_grid_hyp,\n",
    "    'p_regressors': 1  # 1/x\n",
    "}\n",
    "\n",
    "lny = np.log(y)\n",
    "coef_exp = np.polyfit(x, lny, deg=1)  # [ln(w1), ln(w0)]\n",
    "lnw1, lnw0 = coef_exp[0], coef_exp[1]\n",
    "w1_exp = np.exp(lnw1)\n",
    "w0_exp = np.exp(lnw0)\n",
    "y_pred_exp = w0_exp * (w1_exp ** x)\n",
    "y_grid_exp = w0_exp * (w1_exp ** x_grid)\n",
    "results['Показательная'] = {\n",
    "    'params': {'w1': w1_exp, 'w0': w0_exp},\n",
    "    'y_pred': y_pred_exp,\n",
    "    'y_grid': y_grid_exp,\n",
    "    'p_regressors': 1  # x\n",
    "}\n",
    "\n",
    "params_rows = []\n",
    "for name, info in results.items():\n",
    "    row = {'Модель': name}\n",
    "    for k, v in info['params'].items():\n",
    "        row[k] = v\n",
    "    params_rows.append(row)\n",
    "\n",
    "params_df = pd.DataFrame(params_rows).set_index('Модель')\n",
    "display(params_df)\n",
    "hline()\n"
   ],
   "outputs": [
    {
     "data": {
      "text/plain": [
       "                          w1          w0        w2\n",
       "Модель                                            \n",
       "Линейная            0.082253    9.347007       NaN\n",
       "Квадратичная       -1.771474  169.689090  0.005344\n",
       "Гиперболическая -2351.711253   37.197016       NaN\n",
       "Показательная       1.003621   12.475464       NaN"
      ],
      "text/html": [
       "<div>\n",
       "<style scoped>\n",
       "    .dataframe tbody tr th:only-of-type {\n",
       "        vertical-align: middle;\n",
       "    }\n",
       "\n",
       "    .dataframe tbody tr th {\n",
       "        vertical-align: top;\n",
       "    }\n",
       "\n",
       "    .dataframe thead th {\n",
       "        text-align: right;\n",
       "    }\n",
       "</style>\n",
       "<table border=\"1\" class=\"dataframe\">\n",
       "  <thead>\n",
       "    <tr style=\"text-align: right;\">\n",
       "      <th></th>\n",
       "      <th>w1</th>\n",
       "      <th>w0</th>\n",
       "      <th>w2</th>\n",
       "    </tr>\n",
       "    <tr>\n",
       "      <th>Модель</th>\n",
       "      <th></th>\n",
       "      <th></th>\n",
       "      <th></th>\n",
       "    </tr>\n",
       "  </thead>\n",
       "  <tbody>\n",
       "    <tr>\n",
       "      <th>Линейная</th>\n",
       "      <td>0.082253</td>\n",
       "      <td>9.347007</td>\n",
       "      <td>NaN</td>\n",
       "    </tr>\n",
       "    <tr>\n",
       "      <th>Квадратичная</th>\n",
       "      <td>-1.771474</td>\n",
       "      <td>169.689090</td>\n",
       "      <td>0.005344</td>\n",
       "    </tr>\n",
       "    <tr>\n",
       "      <th>Гиперболическая</th>\n",
       "      <td>-2351.711253</td>\n",
       "      <td>37.197016</td>\n",
       "      <td>NaN</td>\n",
       "    </tr>\n",
       "    <tr>\n",
       "      <th>Показательная</th>\n",
       "      <td>1.003621</td>\n",
       "      <td>12.475464</td>\n",
       "      <td>NaN</td>\n",
       "    </tr>\n",
       "  </tbody>\n",
       "</table>\n",
       "</div>"
      ]
     },
     "metadata": {},
     "output_type": "display_data",
     "jetTransient": {
      "display_id": null
     }
    },
    {
     "name": "stdout",
     "output_type": "stream",
     "text": [
      "--------------------------------------------------------------------------------\n"
     ]
    }
   ],
   "execution_count": 76
  },
  {
   "cell_type": "code",
   "id": "4f2714e2",
   "metadata": {
    "ExecuteTime": {
     "end_time": "2025-10-13T16:47:05.899071Z",
     "start_time": "2025-10-13T16:47:05.708081Z"
    }
   },
   "source": [
    "\n",
    "for model_name, info in results.items():\n",
    "    plt.figure()\n",
    "    plt.scatter(x, y, marker='o', label='Данные')\n",
    "    plt.plot(x_grid, info['y_grid'], label=f'Модель: {model_name}')\n",
    "    plt.title(f\"Аппроксимация: {model_name}\")\n",
    "    plt.xlabel(x_col)\n",
    "    plt.ylabel(y_col)\n",
    "    plt.grid(True)\n",
    "    plt.legend()\n",
    "    plt.show()\n"
   ],
   "outputs": [
    {
     "data": {
      "text/plain": [
       "<Figure size 640x480 with 1 Axes>"
      ],
      "image/png": "[encoded data removed]"
     },
     "metadata": {},
     "output_type": "display_data",
     "jetTransient": {
      "display_id": null
     }
    },
    {
     "data": {
      "text/plain": [
       "<Figure size 640x480 with 1 Axes>"
      ],
      "image/png": "[encoded data removed]"
     },
     "metadata": {},
     "output_type": "display_data",
     "jetTransient": {
      "display_id": null
     }
    },
    {
     "data": {
      "text/plain": [
       "<Figure size 640x480 with 1 Axes>"
      ],
      "image/png": "[encoded data removed]"
     },
     "metadata": {},
     "output_type": "display_data",
     "jetTransient": {
      "display_id": null
     }
    },
    {
     "data": {
      "text/plain": [
       "<Figure size 640x480 with 1 Axes>"
      ],
      "image/png": "[encoded data removed]"
     },
     "metadata": {},
     "output_type": "display_data",
     "jetTransient": {
      "display_id": null
     }
    }
   ],
   "execution_count": 77
  },
  {
   "cell_type": "markdown",
   "id": "4fee61ef",
   "metadata": {},
   "source": [
    "\n",
    "## 4. Проверка уравнений регрессии по кр Фишера\n"
   ]
  },
  {
   "cell_type": "code",
   "id": "66496a57",
   "metadata": {
    "ExecuteTime": {
     "end_time": "2025-10-13T16:47:05.910346Z",
     "start_time": "2025-10-13T16:47:05.903652Z"
    }
   },
   "source": [
    "\n",
    "metrics_rows = []\n",
    "for name, info in results.items():\n",
    "    m = regression_metrics(y_true=y, y_pred=info['y_pred'], p_regressors=info['p_regressors'], alpha=0.05)\n",
    "    metrics_rows.append({'Модель': name, **m})\n",
    "\n",
    "metrics_df = pd.DataFrame(metrics_rows).set_index('Модель').sort_values('R2', ascending=False)\n",
    "display(metrics_df)\n",
    "\n",
    "best_model = metrics_df.index[0]\n",
    "worst_model = metrics_df.index[-1]\n",
    "\n",
    "print(f\"Лучшая модель по R^2: {best_model}\")\n",
    "print(f\"Худшая модель по R^2: {worst_model}\")\n"
   ],
   "outputs": [
    {
     "data": {
      "text/plain": [
       "                        SSE        SSR    SST        R2  df1  df2         F  \\\n",
       "Модель                                                                        \n",
       "Квадратичная     236.780805  14.019195  250.8  0.055898    2   17  0.503264   \n",
       "Линейная         241.324408   9.475592  250.8  0.037781    1   18  0.706769   \n",
       "Гиперболическая  242.101442   8.698558  250.8  0.034683    1   18  0.646729   \n",
       "Показательная    242.368462  11.287549  250.8  0.033619    1   18  0.838293   \n",
       "\n",
       "                 F_crit@alpha   p_value  \n",
       "Модель                                   \n",
       "Квадратичная         3.591531  0.613283  \n",
       "Линейная             4.413873  0.411547  \n",
       "Гиперболическая      4.413873  0.431778  \n",
       "Показательная        4.413873  0.371989  "
      ],
      "text/html": [
       "<div>\n",
       "<style scoped>\n",
       "    .dataframe tbody tr th:only-of-type {\n",
       "        vertical-align: middle;\n",
       "    }\n",
       "\n",
       "    .dataframe tbody tr th {\n",
       "        vertical-align: top;\n",
       "    }\n",
       "\n",
       "    .dataframe thead th {\n",
       "        text-align: right;\n",
       "    }\n",
       "</style>\n",
       "<table border=\"1\" class=\"dataframe\">\n",
       "  <thead>\n",
       "    <tr style=\"text-align: right;\">\n",
       "      <th></th>\n",
       "      <th>SSE</th>\n",
       "      <th>SSR</th>\n",
       "      <th>SST</th>\n",
       "      <th>R2</th>\n",
       "      <th>df1</th>\n",
       "      <th>df2</th>\n",
       "      <th>F</th>\n",
       "      <th>F_crit@alpha</th>\n",
       "      <th>p_value</th>\n",
       "    </tr>\n",
       "    <tr>\n",
       "      <th>Модель</th>\n",
       "      <th></th>\n",
       "      <th></th>\n",
       "      <th></th>\n",
       "      <th></th>\n",
       "      <th></th>\n",
       "      <th></th>\n",
       "      <th></th>\n",
       "      <th></th>\n",
       "      <th></th>\n",
       "    </tr>\n",
       "  </thead>\n",
       "  <tbody>\n",
       "    <tr>\n",
       "      <th>Квадратичная</th>\n",
       "      <td>236.780805</td>\n",
       "      <td>14.019195</td>\n",
       "      <td>250.8</td>\n",
       "      <td>0.055898</td>\n",
       "      <td>2</td>\n",
       "      <td>17</td>\n",
       "      <td>0.503264</td>\n",
       "      <td>3.591531</td>\n",
       "      <td>0.613283</td>\n",
       "    </tr>\n",
       "    <tr>\n",
       "      <th>Линейная</th>\n",
       "      <td>241.324408</td>\n",
       "      <td>9.475592</td>\n",
       "      <td>250.8</td>\n",
       "      <td>0.037781</td>\n",
       "      <td>1</td>\n",
       "      <td>18</td>\n",
       "      <td>0.706769</td>\n",
       "      <td>4.413873</td>\n",
       "      <td>0.411547</td>\n",
       "    </tr>\n",
       "    <tr>\n",
       "      <th>Гиперболическая</th>\n",
       "      <td>242.101442</td>\n",
       "      <td>8.698558</td>\n",
       "      <td>250.8</td>\n",
       "      <td>0.034683</td>\n",
       "      <td>1</td>\n",
       "      <td>18</td>\n",
       "      <td>0.646729</td>\n",
       "      <td>4.413873</td>\n",
       "      <td>0.431778</td>\n",
       "    </tr>\n",
       "    <tr>\n",
       "      <th>Показательная</th>\n",
       "      <td>242.368462</td>\n",
       "      <td>11.287549</td>\n",
       "      <td>250.8</td>\n",
       "      <td>0.033619</td>\n",
       "      <td>1</td>\n",
       "      <td>18</td>\n",
       "      <td>0.838293</td>\n",
       "      <td>4.413873</td>\n",
       "      <td>0.371989</td>\n",
       "    </tr>\n",
       "  </tbody>\n",
       "</table>\n",
       "</div>"
      ]
     },
     "metadata": {},
     "output_type": "display_data",
     "jetTransient": {
      "display_id": null
     }
    },
    {
     "name": "stdout",
     "output_type": "stream",
     "text": [
      "Лучшая модель по R^2: Квадратичная\n",
      "Худшая модель по R^2: Показательная\n"
     ]
    }
   ],
   "execution_count": 78
  },
  {
   "cell_type": "markdown",
   "id": "961a2f13",
   "metadata": {},
   "source": [
    "\n",
    "## 5. Выводы\n",
    "Лучшая форма аппроксимации - квадратичная, худшая - показательная"
   ]
  }
 ],
 "metadata": {
  "kernelspec": {
   "display_name": "Python 3 (ipykernel)",
   "language": "python",
   "name": "python3"
  },
  "language_info": {
   "codemirror_mode": {
    "name": "ipython",
    "version": 3
   },
   "file_extension": ".py",
   "mimetype": "text/x-python",
   "name": "python",
   "nbconvert_exporter": "python",
   "pygments_lexer": "ipython3",
   "version": "3.13.7"
  }
 },
 "nbformat": 4,
 "nbformat_minor": 5
}
