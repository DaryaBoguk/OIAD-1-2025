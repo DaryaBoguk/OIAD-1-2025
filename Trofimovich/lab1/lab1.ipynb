{
 "cells": [
  {
   "cell_type": "raw",
   "id": "38e3bca7-9563-4843-971d-1d2735a3ebe8",
   "metadata": {
    "ExecuteTime": {
     "end_time": "2025-09-28T20:23:17.890902Z",
     "start_time": "2025-09-28T20:23:17.879499Z"
    }
   },
   "source": [
    "import numpy as np\n",
    "import pandas as pd\n",
    "import matplotlib.pyplot as plt\n",
    "from scipy import stats\n",
    "\n",
    "path = \"/Users/liker/Downloads/teen_phone_addiction_dataset.csv\"\n",
    "df = pd.read_csv(path)\n",
    "column_name = 'Exercise_Hours'\n",
    "data = df[column_name]\n",
    "\n",
    "mean = data.mean()\n",
    "var = data.var()\n",
    "mode = data.mode()[0]\n",
    "quantiles = data.quantile([0.25, 0.5, 0.75])\n",
    "kurtosis = data.kurtosis()\n",
    "skewness = data.skew()\n",
    "iqr = quantiles[0.75] - quantiles[0.25]\n",
    "\n",
    "print(\"Mean = \", mean)\n",
    "print(\"Variance = \", var)\n",
    "print(\"Mode = \", mode)\n",
    "print(\"Quantiles = \")\n",
    "print(quantiles)\n",
    "print(\"Kurtosis = \", kurtosis)\n",
    "print(\"Skewness = \", skewness)\n",
    "print(\"IQR = \", iqr)"
   ]
  },
  {
   "cell_type": "raw",
   "id": "9f0b894f-ec38-4d04-886f-af6e68de50f7",
   "metadata": {
    "ExecuteTime": {
     "end_time": "2025-09-28T20:23:18.090291Z",
     "start_time": "2025-09-28T20:23:17.962655Z"
    }
   },
   "source": [
    "fig, axes = plt.subplots(1, 2, figsize=(15, 5))\n",
    "\n",
    "axes[0].hist(data, bins=20, color='blue', edgecolor='black')\n",
    "axes[0].set_title('Гистограмма ' + column_name)\n",
    "axes[0].set_xlabel(column_name)\n",
    "axes[0].set_ylabel('Частота')\n",
    "\n",
    "sorted_data = np.sort(data)\n",
    "y_vals = np.arange(1, len(sorted_data) + 1) / len(sorted_data)\n",
    "axes[1].plot(sorted_data, y_vals, marker='o', linestyle='none')\n",
    "axes[1].set_title('Эмпирическая функция распределения')\n",
    "axes[1].set_xlabel(column_name)\n",
    "axes[1].set_ylabel('F(x)')\n",
    "\n",
    "plt.tight_layout()\n",
    "plt.show()"
   ]
  },
  {
   "cell_type": "raw",
   "id": "9f2a5543-0f64-42e8-b1c1-d3c4766c2021",
   "metadata": {},
   "source": [
    "Распределение бимодальное. По значениям среднего, моды и смещения можно понять, что распределение смещено вправо"
   ]
  },
  {
   "cell_type": "raw",
   "id": "40ad3459-9929-45e1-ba0e-001d9463cf01",
   "metadata": {
    "ExecuteTime": {
     "end_time": "2025-09-28T20:23:18.172251Z",
     "start_time": "2025-09-28T20:23:18.109674Z"
    }
   },
   "source": [
    "def chi_square(data, bins=10, alpha=0.05):\n",
    "    observed_freq, bin_edges = np.histogram(data, bins=bins)\n",
    "    mu, sigma = np.mean(data), np.std(data)\n",
    "    expected_freq = []\n",
    "    \n",
    "    for i in range(len(bin_edges)-1):\n",
    "        prob = stats.norm.cdf(bin_edges[i+1], mu, sigma) - stats.norm.cdf(bin_edges[i], mu, sigma)\n",
    "        expected_freq.append(prob * len(data))\n",
    "    \n",
    "    expected_freq = np.array(expected_freq)\n",
    "    mask = expected_freq >= 5\n",
    "    observed_freq = observed_freq[mask]\n",
    "    expected_freq = expected_freq[mask]\n",
    "    chi2_stat = np.sum((observed_freq - expected_freq)**2 / expected_freq)\n",
    "    \n",
    "    df = len(observed_freq) - 1 - 2\n",
    "    critical_value = stats.chi2.ppf(1 - alpha, df)\n",
    "    p_value = 1 - stats.chi2.cdf(chi2_stat, df)\n",
    "    \n",
    "    return chi2_stat, p_value, critical_value, p_value > alpha\n",
    "\n",
    "chi_square_result = chi_square(data)\n",
    "print(chi_square_result)\n",
    "_, p_val = stats.normaltest(data)\n",
    "print(p_val)\n",
    "stats.probplot(data, dist=\"norm\", plot=plt)\n",
    "plt.title(\"Q-Q Plot\")"
   ]
  },
  {
   "cell_type": "raw",
   "id": "d327d763-ecf5-4640-a5af-0ee94e9c682c",
   "metadata": {},
   "source": [
    "На графике видно, что на концах распределение отличается от нормального. По chi-квадрату можно сказать, что распределение не нормальное."
   ]
  },
  {
   "cell_type": "raw",
   "id": "bf385c33-859b-4983-a009-b1ffad7dc268",
   "metadata": {},
   "source": [
    "III"
   ]
  },
  {
   "cell_type": "raw",
   "id": "905c8f9a-fca3-499c-a1ad-65dd3929e5ba",
   "metadata": {
    "ExecuteTime": {
     "end_time": "2025-09-28T20:23:18.297359Z",
     "start_time": "2025-09-28T20:23:18.192191Z"
    }
   },
   "source": [
    "lower_bound = data.quantile(0.25) - 1.5 * iqr\n",
    "upper_bound = data.quantile(0.75) + 1.5 * iqr\n",
    "\n",
    "data_changed = data[(data >= lower_bound) & (data <= upper_bound)]\n",
    "\n",
    "plt.figure(figsize=(12, 4))\n",
    "plt.subplot(1, 2, 1)\n",
    "plt.hist(data_changed, bins=30, color='blue', edgecolor='black')\n",
    "plt.title('После удаления выбросов (IQR)')\n",
    "plt.xlabel('Значения')\n",
    "plt.ylabel('Частота')\n",
    "\n",
    "plt.subplot(1, 2, 2)\n",
    "stats.probplot(data_changed, dist=\"norm\", plot=plt)\n",
    "plt.title('Q-Q plot после удаления выбросов')\n",
    "plt.tight_layout()\n",
    "plt.show()\n",
    "\n",
    "print(f\"Среднее = {data_changed.mean():.4f}, Стандартное отклонение = {data_changed.std():.4f}\")"
   ]
  },
  {
   "cell_type": "raw",
   "id": "8efaf25f-4d4a-4727-a365-cb1efacf3b43",
   "metadata": {
    "ExecuteTime": {
     "end_time": "2025-09-28T20:23:18.416400Z",
     "start_time": "2025-09-28T20:23:18.308255Z"
    }
   },
   "source": [
    "data_standardized = (data_changed - data_changed.mean()) / data_changed.std()\n",
    "\n",
    "plt.figure(figsize=(12, 4))\n",
    "plt.subplot(1, 2, 1)\n",
    "plt.hist(data_standardized, bins=30, color='blue', edgecolor='black')\n",
    "plt.title('После стандартизации')\n",
    "plt.xlabel('Значения (стандартизированные)')\n",
    "plt.ylabel('Частота')\n",
    "\n",
    "plt.subplot(1, 2, 2)\n",
    "stats.probplot(data_standardized, dist=\"norm\", plot=plt)\n",
    "plt.title('Q-Q plot после стандартизации')\n",
    "plt.tight_layout()\n",
    "plt.show()\n",
    "\n",
    "print(f\"Среднее = {data_standardized.mean():.4f}, Стандартное отклонение = {data_standardized.std():.4f}\")"
   ]
  },
  {
   "cell_type": "raw",
   "id": "e79ca0a0-2ece-42fa-a776-6351ee604f0c",
   "metadata": {
    "ExecuteTime": {
     "end_time": "2025-09-28T20:23:18.532771Z",
     "start_time": "2025-09-28T20:23:18.426652Z"
    }
   },
   "source": [
    "print(f\"Минимальное значение: {data_changed.min()}\")\n",
    "\n",
    "if data_changed.min() <= 0:\n",
    "    shift_constant = abs(data_changed.min()) + 1\n",
    "    data_shifted = data_changed + shift_constant\n",
    "    print(f\"Добавлена константа: {shift_constant}\")\n",
    "else:\n",
    "    data_shifted = data_changed\n",
    "    shift_constant = 0\n",
    "\n",
    "data_log = np.log(data_shifted)\n",
    "\n",
    "plt.figure(figsize=(12, 4))\n",
    "plt.subplot(1, 2, 1)\n",
    "plt.hist(data_log, bins=30, color='blue', edgecolor='black')\n",
    "plt.title('После логарифмирования')\n",
    "plt.xlabel('Значения (логарифмированные)')\n",
    "plt.ylabel('Частота')\n",
    "\n",
    "plt.subplot(1, 2, 2)\n",
    "stats.probplot(data_log, dist=\"norm\", plot=plt)\n",
    "plt.title('Q-Q plot после логарифмирования')\n",
    "plt.tight_layout()\n",
    "plt.show()\n",
    "\n",
    "print(f\"Среднее = {data_log.mean():.4f}, Стандартное отклонение = {data_log.std():.4f}\")"
   ]
  },
  {
   "cell_type": "raw",
   "id": "465464e3-3a36-41ad-83bd-d56d64676d5f",
   "metadata": {
    "ExecuteTime": {
     "end_time": "2025-09-28T20:23:18.650455Z",
     "start_time": "2025-09-28T20:23:18.542541Z"
    }
   },
   "source": [
    "groups = df.groupby(\"School_Grade\")\n",
    "\n",
    "plt.figure(figsize=(12, 8))\n",
    "\n",
    "n_grades = len(groups)\n",
    "ncols = min(3, n_grades)\n",
    "\n",
    "for grade, subset in groups:\n",
    "    k = 1 + int(np.log2(len(subset))) \n",
    "    plt.hist(subset[column_name], bins=k, alpha=0.6, label=f\"Класс {grade}\", density=True)\n",
    "\n",
    "plt.xlabel(column_name, fontsize=12)\n",
    "plt.ylabel(\"Плотность\", fontsize=12)\n",
    "plt.title(\"Распределение данных по школьным классам\", fontsize=14, pad=20)\n",
    "plt.legend(ncol=ncols, loc='upper right')\n",
    "plt.grid(True, alpha=0.3)\n",
    "plt.tight_layout()\n",
    "plt.show()\n",
    "\n",
    "stats_by_grade = groups[column_name].agg(['mean', 'var', 'count']).round(4)\n",
    "stats_by_grade.columns = ['Среднее', 'Дисперсия', 'Количество']\n",
    "\n",
    "print(\"Статистики по School_Grade:\")\n",
    "print(stats_by_grade)"
   ]
  },
  {
   "cell_type": "code",
   "execution_count": null,
   "id": "d1ab5412-61b1-46a2-a436-13434c4b5ef1",
   "metadata": {},
   "outputs": [],
   "source": []
  }
 ],
 "metadata": {
  "kernelspec": {
   "display_name": "Python 3 (ipykernel)",
   "language": "python",
   "name": "python3"
  },
  "language_info": {
   "codemirror_mode": {
    "name": "ipython",
    "version": 3
   },
   "file_extension": ".py",
   "mimetype": "text/x-python",
   "name": "python",
   "nbconvert_exporter": "python",
   "pygments_lexer": "ipython3",
   "version": "3.12.10"
  }
 },
 "nbformat": 4,
 "nbformat_minor": 5
}
